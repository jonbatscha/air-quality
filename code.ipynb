{
 "cells": [
  {
   "cell_type": "markdown",
   "metadata": {},
   "source": [
    "# air quality"
   ]
  },
  {
   "cell_type": "code",
   "execution_count": null,
   "metadata": {},
   "outputs": [],
   "source": [
    "import pandas as pd\n",
    "# pd.plotting.register_matplotlib_converters()\n",
    "import matplotlib.pyplot as plt\n",
    "%matplotlib inline\n",
    "import seaborn as sns\n",
    "import numpy as np\n",
    "import math\n",
    "import sklearn\n",
    "from sklearn import preprocessing\n",
    "from sklearn.model_selection import train_test_split\n",
    "from scipy import stats\n",
    "import statistics\n",
    "from sklearn.linear_model import LinearRegression\n",
    "from sklearn.metrics import r2_score\n",
    "from operator import itemgetter\n",
    "from sklearn.linear_model import Ridge\n",
    "from yellowbrick.regressor import ResidualsPlot\n",
    "import statsmodels.api as sm"
   ]
  },
  {
   "cell_type": "code",
   "execution_count": 2,
   "metadata": {},
   "outputs": [],
   "source": [
    "TRAIN = pd.read_csv('TRAINING_DATA.txt')\n",
    "\n",
    "TEST = pd.read_csv('TESTING_DATA.txt')"
   ]
  },
  {
   "cell_type": "markdown",
   "metadata": {},
   "source": [
    "# feature engineering\n",
    "holidays:\n",
    "- http://www.unitarium.com/blog/articles/list-of-federal-holidays-2010\n",
    "- https://www.timeanddate.com/date/durationresult.html?m1=1&d1=31&y1=2010&m2=09&d2=06&y2=2010\n",
    "congestion data:\n",
    "- https://www.wbez.org/shows/curious-city/when-is-chicagoarea-traffic-the-worst/73cf66f9-8a44-4227-8619-68220de78ad3"
   ]
  },
  {
   "cell_type": "markdown",
   "metadata": {},
   "source": [
    "## simple features"
   ]
  },
  {
   "cell_type": "code",
   "execution_count": 3,
   "metadata": {},
   "outputs": [],
   "source": [
    "# TRAIN\n",
    "\n",
    "# temp diff between altitudes\n",
    "TRAIN['temp_diff'] = TRAIN['temperature.1']-TRAIN['temperature.30']\n",
    "TRAIN['temp_diff_abs'] = np.abs(TRAIN['temperature.1']-TRAIN['temperature.30'])\n",
    "\n",
    "# check if weekday, counting monday as day 0, sunday as 6, [15,120,157,218]\n",
    "TRAIN['weekday'] = (((TRAIN['day.index']-1)%7 < 5) | (TRAIN['day.index'] == 15) | (TRAIN['day.index'] == 120) | (TRAIN['day.index'] == 157)  )*1\n",
    "\n",
    "#cos/sin\n",
    "TRAIN['cos'] = np.cos((TRAIN['wind.direction']+90)*(180/math.pi))\n",
    "TRAIN['sin'] = np.sin((TRAIN['wind.direction']+90)*(180/math.pi))\n",
    "TRAIN['cos_abs'] = np.abs(TRAIN['cos'])\n",
    "TRAIN['sin_abs'] = np.abs(TRAIN['sin'])\n",
    "\n",
    "\n",
    "\n",
    "# TEST\n",
    "\n",
    "# temp diff between altitudes\n",
    "TEST['temp_diff'] = TEST['temperature.1']-TEST['temperature.30']\n",
    "TEST['temp_diff_abs'] = np.abs(TEST['temperature.1']-TEST['temperature.30'])\n",
    "\n",
    "# check if weekday, counting monday as day 0, sunday as 6, [15,120,157,218]\n",
    "TEST['weekday'] = (((TEST['day.index']-1)%7 < 5) | (TEST['day.index'] == 15) | (TEST['day.index'] == 120) | (TEST['day.index'] == 157)  )*1\n",
    "\n",
    "#cos/sin\n",
    "TEST['cos'] = np.cos((TEST['wind.direction']+75)*(180/math.pi))\n",
    "TEST['sin'] = np.sin((TEST['wind.direction']+75)*(180/math.pi))\n",
    "TEST['cos_abs'] = np.abs(TEST['cos'])\n",
    "TEST['sin_abs'] = np.abs(TEST['sin'])\n",
    "\n"
   ]
  },
  {
   "cell_type": "markdown",
   "metadata": {},
   "source": [
    "## complex features"
   ]
  },
  {
   "cell_type": "markdown",
   "metadata": {},
   "source": [
    "### since sunrise"
   ]
  },
  {
   "cell_type": "code",
   "execution_count": 4,
   "metadata": {},
   "outputs": [
    {
     "name": "stderr",
     "output_type": "stream",
     "text": [
      "/anaconda3/lib/python3.7/site-packages/ipykernel_launcher.py:20: SettingWithCopyWarning: \n",
      "A value is trying to be set on a copy of a slice from a DataFrame\n",
      "\n",
      "See the caveats in the documentation: http://pandas.pydata.org/pandas-docs/stable/indexing.html#indexing-view-versus-copy\n",
      "/anaconda3/lib/python3.7/site-packages/ipykernel_launcher.py:26: SettingWithCopyWarning: \n",
      "A value is trying to be set on a copy of a slice from a DataFrame\n",
      "\n",
      "See the caveats in the documentation: http://pandas.pydata.org/pandas-docs/stable/indexing.html#indexing-view-versus-copy\n"
     ]
    }
   ],
   "source": [
    "def since_sunrise(hour,dayindex):\n",
    "    \n",
    "    series = [7,6.5,6,7,6,5.5,5,5.5,6.5,7,6,6.5,7]\n",
    "    \n",
    "    month = dayindex/30 + 1\n",
    "    \n",
    "    sunrise = series[int(month)]*(1-(month%1)) + series[int(month)+1]*(month%1)\n",
    "    \n",
    "    if hour<sunrise:\n",
    "        \n",
    "        return hour+24 - sunrise\n",
    "    \n",
    "    else:\n",
    "        \n",
    "        return hour-sunrise\n",
    "    \n",
    "#add hours since sunrise by day.index and hour\n",
    "TRAIN['since_sunrise'] = pd.Series(np.zeros(300))\n",
    "for index in TRAIN.index:\n",
    "    TRAIN['since_sunrise'][index] = since_sunrise(TRAIN['time.of.day'][index],TRAIN['day.index'][index])\n",
    "    \n",
    "\n",
    "    #add hours since sunrise by day.index and hour\n",
    "TEST['since_sunrise'] = pd.Series(np.zeros(200))\n",
    "for index in TEST.index:\n",
    "    TEST['since_sunrise'][index] = since_sunrise(TEST['time.of.day'][index],TEST['day.index'][index])"
   ]
  },
  {
   "cell_type": "markdown",
   "metadata": {},
   "source": [
    "### daily congestion"
   ]
  },
  {
   "cell_type": "code",
   "execution_count": 5,
   "metadata": {},
   "outputs": [
    {
     "name": "stderr",
     "output_type": "stream",
     "text": [
      "/anaconda3/lib/python3.7/site-packages/ipykernel_launcher.py:13: SettingWithCopyWarning: \n",
      "A value is trying to be set on a copy of a slice from a DataFrame\n",
      "\n",
      "See the caveats in the documentation: http://pandas.pydata.org/pandas-docs/stable/indexing.html#indexing-view-versus-copy\n",
      "  del sys.path[0]\n",
      "/anaconda3/lib/python3.7/site-packages/ipykernel_launcher.py:17: SettingWithCopyWarning: \n",
      "A value is trying to be set on a copy of a slice from a DataFrame\n",
      "\n",
      "See the caveats in the documentation: http://pandas.pydata.org/pandas-docs/stable/indexing.html#indexing-view-versus-copy\n"
     ]
    }
   ],
   "source": [
    "def daily_congestion(dayindex,hour):\n",
    "    \n",
    "    series = [.85,.9,1,1.1,1.05,1,1.05,1.05,1.1,1.1,1.1,1.05,1,.95,.95]\n",
    "    \n",
    "    day = dayindex%7\n",
    "    \n",
    "    week_hour = (day*24+hour)/12\n",
    "    \n",
    "    return series[int(round(week_hour))]/min(series)\n",
    "\n",
    "TRAIN['daily_congestion'] = pd.Series(np.zeros(300))\n",
    "for index in TRAIN.index:\n",
    "    TRAIN['daily_congestion'][index] = daily_congestion(TRAIN['day.index'][index],TRAIN['time.of.day'][index])\n",
    "    \n",
    "TEST['daily_congestion'] = pd.Series(np.zeros(200))\n",
    "for index in TEST.index:\n",
    "    TEST['daily_congestion'][index] = daily_congestion(TEST['day.index'][index],TEST['time.of.day'][index])"
   ]
  },
  {
   "cell_type": "markdown",
   "metadata": {},
   "source": [
    "### hourly congestion weekday"
   ]
  },
  {
   "cell_type": "code",
   "execution_count": 6,
   "metadata": {},
   "outputs": [
    {
     "name": "stderr",
     "output_type": "stream",
     "text": [
      "/anaconda3/lib/python3.7/site-packages/ipykernel_launcher.py:9: SettingWithCopyWarning: \n",
      "A value is trying to be set on a copy of a slice from a DataFrame\n",
      "\n",
      "See the caveats in the documentation: http://pandas.pydata.org/pandas-docs/stable/indexing.html#indexing-view-versus-copy\n",
      "  if __name__ == '__main__':\n",
      "/anaconda3/lib/python3.7/site-packages/ipykernel_launcher.py:13: SettingWithCopyWarning: \n",
      "A value is trying to be set on a copy of a slice from a DataFrame\n",
      "\n",
      "See the caveats in the documentation: http://pandas.pydata.org/pandas-docs/stable/indexing.html#indexing-view-versus-copy\n",
      "  del sys.path[0]\n"
     ]
    }
   ],
   "source": [
    "def hourly_congestion_weekday(hour):\n",
    "    \n",
    "    series = [1.5,1,1,1.5,2.5,4,6,6,6,5.5,5,5.5,5.5,6,6.5,7,7.5,6.5,5.5,5,4.5,3.5,3,2.5]\n",
    "        \n",
    "    return series[int(hour)-1]\n",
    "\n",
    "TRAIN['hourly_congestion_weekday'] = pd.Series(np.zeros(300))\n",
    "for index in TRAIN.index:\n",
    "    TRAIN['hourly_congestion_weekday'][index] = hourly_congestion_weekday(TRAIN['time.of.day'][index])\n",
    "    \n",
    "TEST['hourly_congestion_weekday'] = pd.Series(np.zeros(200))\n",
    "for index in TEST.index:\n",
    "    TEST['hourly_congestion_weekday'][index] = hourly_congestion_weekday(TEST['time.of.day'][index])"
   ]
  },
  {
   "cell_type": "markdown",
   "metadata": {},
   "source": [
    "### hourly congestion weekend"
   ]
  },
  {
   "cell_type": "code",
   "execution_count": 7,
   "metadata": {},
   "outputs": [
    {
     "name": "stderr",
     "output_type": "stream",
     "text": [
      "/anaconda3/lib/python3.7/site-packages/ipykernel_launcher.py:9: SettingWithCopyWarning: \n",
      "A value is trying to be set on a copy of a slice from a DataFrame\n",
      "\n",
      "See the caveats in the documentation: http://pandas.pydata.org/pandas-docs/stable/indexing.html#indexing-view-versus-copy\n",
      "  if __name__ == '__main__':\n",
      "/anaconda3/lib/python3.7/site-packages/ipykernel_launcher.py:13: SettingWithCopyWarning: \n",
      "A value is trying to be set on a copy of a slice from a DataFrame\n",
      "\n",
      "See the caveats in the documentation: http://pandas.pydata.org/pandas-docs/stable/indexing.html#indexing-view-versus-copy\n",
      "  del sys.path[0]\n"
     ]
    }
   ],
   "source": [
    "def hourly_congestion_weekend(hour):\n",
    "    \n",
    "    series = [.85]*8+[1]*13+[.85]*3\n",
    "        \n",
    "    return series[int(hour)-1]/min(series)\n",
    "\n",
    "TRAIN['hourly_congestion_weekend'] = pd.Series(np.zeros(300))\n",
    "for index in TRAIN.index:\n",
    "    TRAIN['hourly_congestion_weekend'][index] = hourly_congestion_weekend(TRAIN['time.of.day'][index])\n",
    "    \n",
    "TEST['hourly_congestion_weekend'] = pd.Series(np.zeros(200))\n",
    "for index in TEST.index:\n",
    "    TEST['hourly_congestion_weekend'][index] = hourly_congestion_weekend(TEST['time.of.day'][index])"
   ]
  },
  {
   "cell_type": "markdown",
   "metadata": {},
   "source": [
    "### monthly congestion"
   ]
  },
  {
   "cell_type": "code",
   "execution_count": 8,
   "metadata": {},
   "outputs": [
    {
     "name": "stderr",
     "output_type": "stream",
     "text": [
      "/anaconda3/lib/python3.7/site-packages/ipykernel_launcher.py:14: SettingWithCopyWarning: \n",
      "A value is trying to be set on a copy of a slice from a DataFrame\n",
      "\n",
      "See the caveats in the documentation: http://pandas.pydata.org/pandas-docs/stable/indexing.html#indexing-view-versus-copy\n",
      "  \n",
      "/anaconda3/lib/python3.7/site-packages/ipykernel_launcher.py:18: SettingWithCopyWarning: \n",
      "A value is trying to be set on a copy of a slice from a DataFrame\n",
      "\n",
      "See the caveats in the documentation: http://pandas.pydata.org/pandas-docs/stable/indexing.html#indexing-view-versus-copy\n"
     ]
    }
   ],
   "source": [
    "def monthly_congestion(dayindex):\n",
    "    \n",
    "    month = dayindex/30 + 1\n",
    "    \n",
    "    whole = int(month)\n",
    "    remainder = month%1\n",
    "    \n",
    "    series = [.9,.95,1,1,1.03,1.05,1.1,1.05,1,1,1,1,.9]\n",
    "        \n",
    "    return (series[whole]*(1-remainder) + series[whole+1]*(remainder))/min(series)\n",
    "\n",
    "TRAIN['monthly_congestion'] = pd.Series(np.zeros(300))\n",
    "for index in TRAIN.index:\n",
    "    TRAIN['monthly_congestion'][index] = monthly_congestion(TRAIN['day.index'][index])\n",
    "    \n",
    "TEST['monthly_congestion'] = pd.Series(np.zeros(200))\n",
    "for index in TEST.index:\n",
    "    TEST['monthly_congestion'][index] = monthly_congestion(TEST['day.index'][index])"
   ]
  },
  {
   "cell_type": "markdown",
   "metadata": {},
   "source": [
    "### total congestion"
   ]
  },
  {
   "cell_type": "code",
   "execution_count": 9,
   "metadata": {},
   "outputs": [],
   "source": [
    "TRAIN['total_congestion'] = TRAIN['monthly_congestion']*TRAIN['daily_congestion']*(TRAIN['hourly_congestion_weekday']*TRAIN['weekday'] + TRAIN['hourly_congestion_weekend']*(1-TRAIN['weekday']))\n",
    "TEST['total_congestion'] = TEST['monthly_congestion']*TEST['daily_congestion']*(TEST['hourly_congestion_weekday']*TEST['weekday'] + TEST['hourly_congestion_weekend']*(1-TEST['weekday']))"
   ]
  },
  {
   "cell_type": "markdown",
   "metadata": {},
   "source": [
    "# scale features"
   ]
  },
  {
   "cell_type": "code",
   "execution_count": 10,
   "metadata": {},
   "outputs": [],
   "source": [
    "TRAIN['total_congestion.scaled'] = TRAIN['total_congestion']**.72\n",
    "TRAIN['car.count.scaled'] = (TRAIN['car.count'])**.68\n",
    "TRAIN['temp_diff_abs.scaled'] = TRAIN['temp_diff_abs']**.71\n",
    "TRAIN['temperature.30.scaled'] = ((TRAIN['temperature.30']+273.15)/273.15)**3\n",
    "TRAIN['wind.velocity.scaled'] = TRAIN['wind.velocity']**1.04\n",
    "TRAIN['since_sunrise.scaled'] = TRAIN['since_sunrise']**.36\n",
    "TRAIN['cos_abs.scaled'] = (TRAIN['cos_abs'])**1.59\n",
    "TRAIN['sin.scaled'] = (np.abs(TRAIN['sin'])**3)*np.sign(TRAIN['sin'])\n",
    "TRAIN['temp_diff.scaled'] = np.abs(TRAIN['temp_diff'])**1.17 * np.sign(TRAIN['temp_diff'])\n",
    "\n",
    "\n",
    "TEST['total_congestion.scaled'] = TEST['total_congestion']**.72\n",
    "TEST['car.count.scaled'] = (TEST['car.count'])**.68\n",
    "TEST['temp_diff_abs.scaled'] = TEST['temp_diff_abs']**.71\n",
    "TEST['temperature.30.scaled'] = ((TEST['temperature.30']+273.15)/273.15)**3\n",
    "TEST['wind.velocity.scaled'] = TEST['wind.velocity']**1.04\n",
    "TEST['since_sunrise.scaled'] = TEST['since_sunrise']**.36\n",
    "TEST['cos_abs.scaled'] = (TEST['cos_abs'])**1.59\n",
    "TEST['sin.scaled'] = (np.abs(TEST['sin'])**3)*np.sign(TEST['sin'])\n",
    "TEST['temp_diff.scaled'] = np.abs(TEST['temp_diff'])**1.17 * np.sign(TEST['temp_diff'])"
   ]
  },
  {
   "cell_type": "markdown",
   "metadata": {},
   "source": [
    "# remove outliers"
   ]
  },
  {
   "cell_type": "code",
   "execution_count": 11,
   "metadata": {},
   "outputs": [],
   "source": [
    "TRAIN = TRAIN[TRAIN['so2']<150]"
   ]
  },
  {
   "cell_type": "markdown",
   "metadata": {},
   "source": [
    "# visualize/experiment"
   ]
  },
  {
   "cell_type": "code",
   "execution_count": 33,
   "metadata": {},
   "outputs": [
    {
     "name": "stdout",
     "output_type": "stream",
     "text": [
      "slope, intercept, r_value, p_value, std_err =  LinregressResult(slope=-0.721829650673952, intercept=59.0585639303455, rvalue=-0.22073410783077094, pvalue=0.00013936101306096858, stderr=0.1869700960594644)\n"
     ]
    },
    {
     "data": {
      "image/png": "[encoded data removed]",
      "text/plain": [
       "<Figure size 432x432 with 3 Axes>"
      ]
     },
     "metadata": {
      "needs_background": "light"
     },
     "output_type": "display_data"
    }
   ],
   "source": [
    "x = TRAIN['before_sunset']\n",
    "y = TRAIN['so2']\n",
    "\n",
    "sns.jointplot(x,y,kind='reg')\n",
    "\n",
    "print('slope, intercept, r_value, p_value, std_err = ',stats.linregress(x,y))"
   ]
  },
  {
   "cell_type": "code",
   "execution_count": 13,
   "metadata": {},
   "outputs": [
    {
     "data": {
      "text/plain": [
       "9"
      ]
     },
     "execution_count": 13,
     "metadata": {},
     "output_type": "execute_result"
    }
   ],
   "source": [
    "keep = [\n",
    "    'car.count.scaled',\n",
    "    'wind.velocity.scaled',\n",
    "    'temperature.30.scaled',\n",
    "    'temp_diff_abs.scaled',\n",
    "    'temp_diff.scaled',\n",
    "    'total_congestion.scaled',\n",
    "    'since_sunrise.scaled',\n",
    "    'sin.scaled',\n",
    "    'cos_abs.scaled',\n",
    "]\n",
    "\n",
    "X = TRAIN.drop(columns = ['so2'])[keep]\n",
    "Y = TRAIN['so2']\n",
    "\n",
    "len(keep)"
   ]
  },
  {
   "cell_type": "code",
   "execution_count": 14,
   "metadata": {},
   "outputs": [
    {
     "name": "stdout",
     "output_type": "stream",
     "text": [
      "r2_score : 0.6222247647452952\n"
     ]
    }
   ],
   "source": [
    "regressor = LinearRegression()  \n",
    "regressor.fit(X, Y)\n",
    "coeff_df = pd.DataFrame(regressor.coef_, X.columns, columns=['Coefficient'])\n",
    "pred_y = regressor.predict(X)\n",
    "res = Y-pred_y\n",
    "df = pd.DataFrame({'Actual': Y, 'Predicted': pred_y,'Res':y})\n",
    "\n",
    "\n",
    "print('r2_score : '+str(r2_score(Y, pred_y)))"
   ]
  },
  {
   "cell_type": "code",
   "execution_count": 15,
   "metadata": {},
   "outputs": [
    {
     "name": "stdout",
     "output_type": "stream",
     "text": [
      "('sin', 0.03393227629465078, 0.5629192890711575)\n",
      "('temp_diff_abs', 0.01808248506354518, 0.7579115843453327)\n",
      "('temp_diff', 0.005573146262493376, 0.9243228885870844)\n",
      "('cos_abs', 0.004435325596199245, 0.9397402118746976)\n",
      "('temperature.30', 0.004113829206663895, 0.9441007725428339)\n",
      "('since_sunrise', 0.002662381080279904, 0.9638060973750009)\n",
      "('total_congestion', 0.0009696967423435052, 0.986813494552333)\n",
      "('car.count', 0.0004943527043875337, 0.9932772764345452)\n",
      "('wind.velocity', 4.216329251696213e-06, 0.9999426612833274)\n"
     ]
    }
   ],
   "source": [
    "values = []\n",
    "\n",
    "keep_all = [\n",
    "    'car.count',\n",
    "    'wind.velocity',\n",
    "    'temperature.30',\n",
    "    'temp_diff',\n",
    "    'temp_diff_abs',\n",
    "    'total_congestion',\n",
    "    'since_sunrise',\n",
    "    'sin',\n",
    "    'cos_abs',\n",
    "]\n",
    "\n",
    "for k in keep_all:\n",
    "    \n",
    "    _,_,r,p,_ = stats.linregress(TRAIN[k],res)\n",
    "    values += [(k,abs(r),p)]\n",
    "    \n",
    "values = sorted(values,key=itemgetter(1,2),reverse=True)\n",
    "\n",
    "for v in values:\n",
    "    \n",
    "    print(v)"
   ]
  },
  {
   "cell_type": "code",
   "execution_count": 16,
   "metadata": {},
   "outputs": [
    {
     "data": {
      "text/plain": [
       "('temp_diff', 0.11756720303875029, 0.044346313039971344)"
      ]
     },
     "execution_count": 16,
     "metadata": {},
     "output_type": "execute_result"
    }
   ],
   "source": [
    "('total_congestion', 0.5989712647638366, 6.463298852927362e-30)\n",
    "('car.count', 0.5212778842690416, 8.168779833606287e-22)\n",
    "('since_sunrise', 0.46841552320875385, 2.193607972322403e-17)\n",
    "('wind.velocity', 0.3020065633826599, 1.3567481389766822e-07)\n",
    "('cos_abs', 0.23582513988862028, 4.560669374600059e-05)\n",
    "('temperature.30', 0.17934568803135084, 0.0020574870693098254)\n",
    "('temp_diff_abs', 0.1698676895494889, 0.0035402594480738237)\n",
    "('sin', 0.1482771423146991, 0.011043810560162492)\n",
    "('temp_diff', 0.11756720303875029, 0.044346313039971344)"
   ]
  },
  {
   "cell_type": "markdown",
   "metadata": {},
   "source": [
    "# linear regression"
   ]
  },
  {
   "cell_type": "code",
   "execution_count": 28,
   "metadata": {},
   "outputs": [
    {
     "name": "stdout",
     "output_type": "stream",
     "text": [
      "dropped outliers r2_score : 0.6223676180065352\n"
     ]
    }
   ],
   "source": [
    "keep = [\n",
    "    'car.count.scaled',\n",
    "    'wind.velocity.scaled',\n",
    "    'temperature.30.scaled',\n",
    "    'temp_diff_abs.scaled',\n",
    "    'temp_diff.scaled',\n",
    "    'total_congestion.scaled',\n",
    "    'since_sunrise.scaled',\n",
    "    'sin.scaled',\n",
    "    'cos_abs.scaled',\n",
    "]\n",
    "\n",
    "X = TRAIN.drop(columns = ['so2'])[keep]\n",
    "Y = TRAIN['so2']\n",
    "\n",
    "regressor = LinearRegression()  \n",
    "regressor.fit(X, Y)\n",
    "pred_y = regressor.predict(X)\n",
    "print('dropped outliers r2_score : '+str(r2_score(Y, pred_y)))"
   ]
  },
  {
   "cell_type": "markdown",
   "metadata": {},
   "source": [
    "# generate prediction file"
   ]
  },
  {
   "cell_type": "code",
   "execution_count": 18,
   "metadata": {},
   "outputs": [],
   "source": [
    "test_pred = regressor.predict(TEST[keep])\n",
    "\n",
    "TEST['so2_prediction'] = test_pred\n",
    "\n",
    "df = TEST[[\"car.count\",\"wind.velocity\",\"wind.direction\",\"time.of.day\",\"day.index\",\"temperature.1\",\"temperature.30\",\"so2_prediction\"]]\n",
    "\n",
    "df.to_csv('predictions.csv',index=False)"
   ]
  },
  {
   "cell_type": "markdown",
   "metadata": {},
   "source": [
    "# model and summary stats"
   ]
  },
  {
   "cell_type": "code",
   "execution_count": 19,
   "metadata": {},
   "outputs": [
    {
     "name": "stderr",
     "output_type": "stream",
     "text": [
      "/anaconda3/lib/python3.7/site-packages/numpy/core/fromnumeric.py:2389: FutureWarning: Method .ptp is deprecated and will be removed in a future version. Use numpy.ptp instead.\n",
      "  return ptp(axis=axis, out=out, **kwargs)\n"
     ]
    },
    {
     "data": {
      "text/html": [
       "<table class=\"simpletable\">\n",
       "<tr>\n",
       "        <td>Model:</td>               <td>OLS</td>         <td>Adj. R-squared:</td>     <td>0.610</td>  \n",
       "</tr>\n",
       "<tr>\n",
       "  <td>Dependent Variable:</td>        <td>so2</td>              <td>AIC:</td>         <td>2488.7904</td>\n",
       "</tr>\n",
       "<tr>\n",
       "         <td>Date:</td>        <td>2019-11-10 21:22</td>        <td>BIC:</td>         <td>2525.5922</td>\n",
       "</tr>\n",
       "<tr>\n",
       "   <td>No. Observations:</td>         <td>293</td>         <td>Log-Likelihood:</td>    <td>-1234.4</td> \n",
       "</tr>\n",
       "<tr>\n",
       "       <td>Df Model:</td>              <td>9</td>           <td>F-statistic:</td>       <td>51.79</td>  \n",
       "</tr>\n",
       "<tr>\n",
       "     <td>Df Residuals:</td>           <td>283</td>       <td>Prob (F-statistic):</td> <td>8.91e-55</td> \n",
       "</tr>\n",
       "<tr>\n",
       "      <td>R-squared:</td>            <td>0.622</td>            <td>Scale:</td>         <td>276.65</td>  \n",
       "</tr>\n",
       "</table>\n",
       "<table class=\"simpletable\">\n",
       "<tr>\n",
       "             <td></td>               <th>Coef.</th>  <th>Std.Err.</th>    <th>t</th>     <th>P>|t|</th>  <th>[0.025</th>   <th>0.975]</th> \n",
       "</tr>\n",
       "<tr>\n",
       "  <th>const</th>                    <td>80.6352</td>  <td>17.5631</td> <td>4.5912</td>  <td>0.0000</td>  <td>46.0644</td> <td>115.2060</td>\n",
       "</tr>\n",
       "<tr>\n",
       "  <th>car.count.scaled</th>         <td>0.0460</td>   <td>0.0205</td>  <td>2.2448</td>  <td>0.0256</td>  <td>0.0057</td>   <td>0.0863</td> \n",
       "</tr>\n",
       "<tr>\n",
       "  <th>wind.velocity.scaled</th>     <td>-3.2045</td>  <td>0.5501</td>  <td>-5.8254</td> <td>0.0000</td>  <td>-4.2873</td>  <td>-2.1217</td>\n",
       "</tr>\n",
       "<tr>\n",
       "  <th>temperature.30.scaled</th>   <td>-29.1623</td>  <td>17.6843</td> <td>-1.6490</td> <td>0.1002</td> <td>-63.9718</td>  <td>5.6472</td> \n",
       "</tr>\n",
       "<tr>\n",
       "  <th>temp_diff_abs.scaled</th>     <td>9.6112</td>   <td>2.1557</td>  <td>4.4586</td>  <td>0.0000</td>  <td>5.3681</td>   <td>13.8544</td>\n",
       "</tr>\n",
       "<tr>\n",
       "  <th>temp_diff.scaled</th>         <td>-4.9554</td>  <td>1.3054</td>  <td>-3.7961</td> <td>0.0002</td>  <td>-7.5250</td>  <td>-2.3859</td>\n",
       "</tr>\n",
       "<tr>\n",
       "  <th>total_congestion.scaled</th>  <td>7.3280</td>   <td>0.8849</td>  <td>8.2815</td>  <td>0.0000</td>  <td>5.5862</td>   <td>9.0697</td> \n",
       "</tr>\n",
       "<tr>\n",
       "  <th>since_sunrise.scaled</th>     <td>-9.5467</td>  <td>2.0325</td>  <td>-4.6971</td> <td>0.0000</td> <td>-13.5474</td>  <td>-5.5461</td>\n",
       "</tr>\n",
       "<tr>\n",
       "  <th>sin.scaled</th>               <td>-7.4377</td>  <td>1.8123</td>  <td>-4.1040</td> <td>0.0001</td> <td>-11.0050</td>  <td>-3.8704</td>\n",
       "</tr>\n",
       "<tr>\n",
       "  <th>cos_abs.scaled</th>          <td>-11.3630</td>  <td>2.8914</td>  <td>-3.9300</td> <td>0.0001</td> <td>-17.0543</td>  <td>-5.6716</td>\n",
       "</tr>\n",
       "</table>\n",
       "<table class=\"simpletable\">\n",
       "<tr>\n",
       "     <td>Omnibus:</td>    <td>5.429</td>  <td>Durbin-Watson:</td>   <td>2.041</td>\n",
       "</tr>\n",
       "<tr>\n",
       "  <td>Prob(Omnibus):</td> <td>0.066</td> <td>Jarque-Bera (JB):</td> <td>5.132</td>\n",
       "</tr>\n",
       "<tr>\n",
       "       <td>Skew:</td>     <td>0.297</td>     <td>Prob(JB):</td>     <td>0.077</td>\n",
       "</tr>\n",
       "<tr>\n",
       "     <td>Kurtosis:</td>   <td>3.258</td>  <td>Condition No.:</td>   <td>4230</td> \n",
       "</tr>\n",
       "</table>"
      ],
      "text/plain": [
       "<class 'statsmodels.iolib.summary2.Summary'>\n",
       "\"\"\"\n",
       "                     Results: Ordinary least squares\n",
       "==========================================================================\n",
       "Model:                  OLS                Adj. R-squared:       0.610    \n",
       "Dependent Variable:     so2                AIC:                  2488.7904\n",
       "Date:                   2019-11-10 21:22   BIC:                  2525.5922\n",
       "No. Observations:       293                Log-Likelihood:       -1234.4  \n",
       "Df Model:               9                  F-statistic:          51.79    \n",
       "Df Residuals:           283                Prob (F-statistic):   8.91e-55 \n",
       "R-squared:              0.622              Scale:                276.65   \n",
       "--------------------------------------------------------------------------\n",
       "                         Coef.   Std.Err.    t    P>|t|   [0.025   0.975] \n",
       "--------------------------------------------------------------------------\n",
       "const                    80.6352  17.5631  4.5912 0.0000  46.0644 115.2060\n",
       "car.count.scaled          0.0460   0.0205  2.2448 0.0256   0.0057   0.0863\n",
       "wind.velocity.scaled     -3.2045   0.5501 -5.8254 0.0000  -4.2873  -2.1217\n",
       "temperature.30.scaled   -29.1623  17.6843 -1.6490 0.1002 -63.9718   5.6472\n",
       "temp_diff_abs.scaled      9.6112   2.1557  4.4586 0.0000   5.3681  13.8544\n",
       "temp_diff.scaled         -4.9554   1.3054 -3.7961 0.0002  -7.5250  -2.3859\n",
       "total_congestion.scaled   7.3280   0.8849  8.2815 0.0000   5.5862   9.0697\n",
       "since_sunrise.scaled     -9.5467   2.0325 -4.6971 0.0000 -13.5474  -5.5461\n",
       "sin.scaled               -7.4377   1.8123 -4.1040 0.0001 -11.0050  -3.8704\n",
       "cos_abs.scaled          -11.3630   2.8914 -3.9300 0.0001 -17.0543  -5.6716\n",
       "--------------------------------------------------------------------------\n",
       "Omnibus:                 5.429           Durbin-Watson:              2.041\n",
       "Prob(Omnibus):           0.066           Jarque-Bera (JB):           5.132\n",
       "Skew:                    0.297           Prob(JB):                   0.077\n",
       "Kurtosis:                3.258           Condition No.:              4230 \n",
       "==========================================================================\n",
       "* The condition number is large (4e+03). This might indicate\n",
       "strong multicollinearity or other numerical problems.\n",
       "\"\"\""
      ]
     },
     "execution_count": 19,
     "metadata": {},
     "output_type": "execute_result"
    }
   ],
   "source": [
    "X1 = sm.add_constant(X)\n",
    "mod = sm.OLS(Y,X1)\n",
    "fii = mod.fit()\n",
    "fii.summary2()"
   ]
  },
  {
   "cell_type": "markdown",
   "metadata": {},
   "source": [
    "# validate model"
   ]
  },
  {
   "cell_type": "code",
   "execution_count": 20,
   "metadata": {},
   "outputs": [
    {
     "data": {
      "text/html": [
       "<table class=\"simpletable\">\n",
       "<tr>\n",
       "        <td>Model:</td>               <td>OLS</td>         <td>Adj. R-squared:</td>     <td>0.642</td>  \n",
       "</tr>\n",
       "<tr>\n",
       "  <td>Dependent Variable:</td>        <td>so2</td>              <td>AIC:</td>         <td>1236.4952</td>\n",
       "</tr>\n",
       "<tr>\n",
       "         <td>Date:</td>        <td>2019-11-10 21:22</td>        <td>BIC:</td>         <td>1266.3995</td>\n",
       "</tr>\n",
       "<tr>\n",
       "   <td>No. Observations:</td>         <td>147</td>         <td>Log-Likelihood:</td>    <td>-608.25</td> \n",
       "</tr>\n",
       "<tr>\n",
       "       <td>Df Model:</td>              <td>9</td>           <td>F-statistic:</td>       <td>30.14</td>  \n",
       "</tr>\n",
       "<tr>\n",
       "     <td>Df Residuals:</td>           <td>137</td>       <td>Prob (F-statistic):</td> <td>2.05e-28</td> \n",
       "</tr>\n",
       "<tr>\n",
       "      <td>R-squared:</td>            <td>0.664</td>            <td>Scale:</td>         <td>246.67</td>  \n",
       "</tr>\n",
       "</table>\n",
       "<table class=\"simpletable\">\n",
       "<tr>\n",
       "             <td></td>               <th>Coef.</th>  <th>Std.Err.</th>    <th>t</th>     <th>P>|t|</th>  <th>[0.025</th>   <th>0.975]</th> \n",
       "</tr>\n",
       "<tr>\n",
       "  <th>const</th>                    <td>80.8373</td>  <td>23.7898</td> <td>3.3980</td>  <td>0.0009</td>  <td>33.7946</td> <td>127.8801</td>\n",
       "</tr>\n",
       "<tr>\n",
       "  <th>car.count.scaled</th>         <td>-0.0072</td>  <td>0.0292</td>  <td>-0.2455</td> <td>0.8064</td>  <td>-0.0650</td>  <td>0.0506</td> \n",
       "</tr>\n",
       "<tr>\n",
       "  <th>wind.velocity.scaled</th>     <td>-3.9045</td>  <td>0.7576</td>  <td>-5.1537</td> <td>0.0000</td>  <td>-5.4027</td>  <td>-2.4064</td>\n",
       "</tr>\n",
       "<tr>\n",
       "  <th>temperature.30.scaled</th>   <td>-17.6386</td>  <td>24.1060</td> <td>-0.7317</td> <td>0.4656</td> <td>-65.3066</td>  <td>30.0295</td>\n",
       "</tr>\n",
       "<tr>\n",
       "  <th>temp_diff_abs.scaled</th>     <td>11.1717</td>  <td>2.7907</td>  <td>4.0031</td>  <td>0.0001</td>  <td>5.6532</td>   <td>16.6902</td>\n",
       "</tr>\n",
       "<tr>\n",
       "  <th>temp_diff.scaled</th>         <td>-6.5955</td>  <td>1.6943</td>  <td>-3.8928</td> <td>0.0002</td>  <td>-9.9458</td>  <td>-3.2452</td>\n",
       "</tr>\n",
       "<tr>\n",
       "  <th>total_congestion.scaled</th>  <td>8.4370</td>   <td>1.2273</td>  <td>6.8745</td>  <td>0.0000</td>  <td>6.0101</td>   <td>10.8639</td>\n",
       "</tr>\n",
       "<tr>\n",
       "  <th>since_sunrise.scaled</th>    <td>-10.7763</td>  <td>2.8178</td>  <td>-3.8244</td> <td>0.0002</td> <td>-16.3483</td>  <td>-5.2043</td>\n",
       "</tr>\n",
       "<tr>\n",
       "  <th>sin.scaled</th>               <td>-9.1636</td>  <td>2.4266</td>  <td>-3.7763</td> <td>0.0002</td> <td>-13.9622</td>  <td>-4.3651</td>\n",
       "</tr>\n",
       "<tr>\n",
       "  <th>cos_abs.scaled</th>          <td>-15.5670</td>  <td>3.8344</td>  <td>-4.0598</td> <td>0.0001</td> <td>-23.1493</td>  <td>-7.9846</td>\n",
       "</tr>\n",
       "</table>\n",
       "<table class=\"simpletable\">\n",
       "<tr>\n",
       "     <td>Omnibus:</td>    <td>3.673</td>  <td>Durbin-Watson:</td>   <td>1.600</td>\n",
       "</tr>\n",
       "<tr>\n",
       "  <td>Prob(Omnibus):</td> <td>0.159</td> <td>Jarque-Bera (JB):</td> <td>3.200</td>\n",
       "</tr>\n",
       "<tr>\n",
       "       <td>Skew:</td>     <td>0.283</td>     <td>Prob(JB):</td>     <td>0.202</td>\n",
       "</tr>\n",
       "<tr>\n",
       "     <td>Kurtosis:</td>   <td>3.450</td>  <td>Condition No.:</td>   <td>4271</td> \n",
       "</tr>\n",
       "</table>"
      ],
      "text/plain": [
       "<class 'statsmodels.iolib.summary2.Summary'>\n",
       "\"\"\"\n",
       "                     Results: Ordinary least squares\n",
       "==========================================================================\n",
       "Model:                  OLS                Adj. R-squared:       0.642    \n",
       "Dependent Variable:     so2                AIC:                  1236.4952\n",
       "Date:                   2019-11-10 21:22   BIC:                  1266.3995\n",
       "No. Observations:       147                Log-Likelihood:       -608.25  \n",
       "Df Model:               9                  F-statistic:          30.14    \n",
       "Df Residuals:           137                Prob (F-statistic):   2.05e-28 \n",
       "R-squared:              0.664              Scale:                246.67   \n",
       "--------------------------------------------------------------------------\n",
       "                         Coef.   Std.Err.    t    P>|t|   [0.025   0.975] \n",
       "--------------------------------------------------------------------------\n",
       "const                    80.8373  23.7898  3.3980 0.0009  33.7946 127.8801\n",
       "car.count.scaled         -0.0072   0.0292 -0.2455 0.8064  -0.0650   0.0506\n",
       "wind.velocity.scaled     -3.9045   0.7576 -5.1537 0.0000  -5.4027  -2.4064\n",
       "temperature.30.scaled   -17.6386  24.1060 -0.7317 0.4656 -65.3066  30.0295\n",
       "temp_diff_abs.scaled     11.1717   2.7907  4.0031 0.0001   5.6532  16.6902\n",
       "temp_diff.scaled         -6.5955   1.6943 -3.8928 0.0002  -9.9458  -3.2452\n",
       "total_congestion.scaled   8.4370   1.2273  6.8745 0.0000   6.0101  10.8639\n",
       "since_sunrise.scaled    -10.7763   2.8178 -3.8244 0.0002 -16.3483  -5.2043\n",
       "sin.scaled               -9.1636   2.4266 -3.7763 0.0002 -13.9622  -4.3651\n",
       "cos_abs.scaled          -15.5670   3.8344 -4.0598 0.0001 -23.1493  -7.9846\n",
       "--------------------------------------------------------------------------\n",
       "Omnibus:                 3.673           Durbin-Watson:              1.600\n",
       "Prob(Omnibus):           0.159           Jarque-Bera (JB):           3.200\n",
       "Skew:                    0.283           Prob(JB):                   0.202\n",
       "Kurtosis:                3.450           Condition No.:              4271 \n",
       "==========================================================================\n",
       "* The condition number is large (4e+03). This might indicate\n",
       "strong multicollinearity or other numerical problems.\n",
       "\"\"\""
      ]
     },
     "execution_count": 20,
     "metadata": {},
     "output_type": "execute_result"
    }
   ],
   "source": [
    "train, val = train_test_split(TRAIN,test_size = .5)\n",
    "\n",
    "\n",
    "train_x = train.drop(columns = ['so2'])[keep]\n",
    "train_y = train['so2']\n",
    "\n",
    "val_x = val.drop(columns = ['so2'])[keep]\n",
    "val_y = val['so2']\n",
    "\n",
    "\n",
    "val_x1 = sm.add_constant(val_x)\n",
    "mod = sm.OLS(val_y,val_x1)\n",
    "fii = mod.fit()\n",
    "fii.summary2()"
   ]
  },
  {
   "cell_type": "markdown",
   "metadata": {},
   "source": [
    "# plot residuals"
   ]
  },
  {
   "cell_type": "code",
   "execution_count": 21,
   "metadata": {},
   "outputs": [
    {
     "data": {
      "image/png": "[encoded data removed]",
      "text/plain": [
       "<Figure size 432x288 with 1 Axes>"
      ]
     },
     "metadata": {
      "needs_background": "light"
     },
     "output_type": "display_data"
    }
   ],
   "source": [
    "res = Y-pred_y\n",
    "\n",
    "g = sns.residplot(pred_y,res)\n",
    "\n",
    "g.set(xlabel='predicted so2', ylabel='residual')\n",
    "\n",
    "plt.show()"
   ]
  },
  {
   "cell_type": "markdown",
   "metadata": {},
   "source": [
    "# interesting graphs"
   ]
  },
  {
   "cell_type": "markdown",
   "metadata": {},
   "source": [
    "### congestion_model vs car.count"
   ]
  },
  {
   "cell_type": "code",
   "execution_count": 47,
   "metadata": {},
   "outputs": [
    {
     "name": "stdout",
     "output_type": "stream",
     "text": [
      "slope, intercept, r_value, p_value, std_err =  LinregressResult(slope=0.011904107130927983, intercept=28.461002837633416, rvalue=0.5212778842690416, pvalue=8.168779833606287e-22, stderr=0.0011424233042684991)\n"
     ]
    },
    {
     "data": {
      "image/png": "[encoded data removed]",
      "text/plain": [
       "<Figure size 432x432 with 3 Axes>"
      ]
     },
     "metadata": {
      "needs_background": "light"
     },
     "output_type": "display_data"
    }
   ],
   "source": [
    "x = TRAIN['car.count']\n",
    "y = TRAIN['so2']\n",
    "\n",
    "sns.jointplot(x,y,kind='reg')\n",
    "\n",
    "print('slope, intercept, r_value, p_value, std_err = ',stats.linregress(x,y))"
   ]
  },
  {
   "cell_type": "code",
   "execution_count": 50,
   "metadata": {},
   "outputs": [
    {
     "name": "stdout",
     "output_type": "stream",
     "text": [
      "slope, intercept, r_value, p_value, std_err =  LinregressResult(slope=4.840190665281032, intercept=24.385338200802764, rvalue=0.5989712647638366, pvalue=6.463298852927362e-30, stderr=0.3793307617780464)\n"
     ]
    },
    {
     "data": {
      "image/png": "[encoded data removed]",
      "text/plain": [
       "<Figure size 432x432 with 3 Axes>"
      ]
     },
     "metadata": {
      "needs_background": "light"
     },
     "output_type": "display_data"
    }
   ],
   "source": [
    "x = TRAIN['total_congestion']\n",
    "y = TRAIN['so2']\n",
    "\n",
    "sns.jointplot(x,y,kind='reg')\n",
    "\n",
    "print('slope, intercept, r_value, p_value, std_err = ',stats.linregress(x,y))"
   ]
  }
 ],
 "metadata": {
  "kernelspec": {
   "display_name": "Python 3",
   "language": "python",
   "name": "python3"
  },
  "language_info": {
   "codemirror_mode": {
    "name": "ipython",
    "version": 3
   },
   "file_extension": ".py",
   "mimetype": "text/x-python",
   "name": "python",
   "nbconvert_exporter": "python",
   "pygments_lexer": "ipython3",
   "version": "3.7.3"
  }
 },
 "nbformat": 4,
 "nbformat_minor": 4
}
